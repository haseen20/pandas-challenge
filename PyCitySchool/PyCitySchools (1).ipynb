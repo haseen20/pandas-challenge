{
 "cells": [
  {
   "cell_type": "code",
   "execution_count": 7,
   "id": "ef8fcf51-7b44-4586-8037-6f0a8c15b93f",
   "metadata": {},
   "outputs": [],
   "source": [
    "# PyCity Schools - District-Wide Standardized Test Results Analysis\n",
    "import pandas as pd\n"
   ]
  },
  {
   "cell_type": "code",
   "execution_count": 9,
   "id": "820b8cee-8094-41bd-9b91-789151b9fc38",
   "metadata": {},
   "outputs": [],
   "source": [
    "# PyCitySchools Analysis - Missing Components\n",
    "# Load data\n",
    "school_data = pd.read_csv(\"schools_complete.csv\")  # Adjust the filename\n",
    "student_data = pd.read_csv(\"students_complete.csv\")  # Adjust the filename\n",
    "\n"
   ]
  },
  {
   "cell_type": "code",
   "execution_count": 11,
   "id": "3739caea-034d-438c-a2a1-1ac40a0bb220",
   "metadata": {},
   "outputs": [],
   "source": [
    "total_schools = school_data['school_name'].nunique()\n"
   ]
  },
  {
   "cell_type": "code",
   "execution_count": 13,
   "id": "b6f6e053-5f18-404e-b0a0-b6bd787f5828",
   "metadata": {},
   "outputs": [],
   "source": [
    "total_students = student_data['student_name'].count()\n",
    "total_budget = school_data['budget'].sum()\n",
    "avg_math_score = student_data['math_score'].mean()\n",
    "avg_reading_score = student_data['reading_score'].mean()\n"
   ]
  },
  {
   "cell_type": "code",
   "execution_count": 15,
   "id": "4e7ee746-7831-4901-9fe0-b22f47f8f453",
   "metadata": {},
   "outputs": [],
   "source": [
    "passing_math = student_data[student_data['math_score'] >= 70].count()['student_name']\n",
    "percent_passing_math = (passing_math / total_students) * 100\n",
    "passing_reading = student_data[student_data['reading_score'] >= 70].count()['student_name']\n",
    "percent_passing_reading = (passing_reading / total_students) * 100\n",
    "passing_overall = student_data[(student_data['math_score'] >= 70) & (student_data['reading_score'] >= 70)].count()['student_name']\n",
    "percent_overall_passing = (passing_overall / total_students) * 100\n",
    "\n"
   ]
  },
  {
   "cell_type": "code",
   "execution_count": 17,
   "id": "d12bfbcd-9531-457f-b184-56cd5e43735b",
   "metadata": {},
   "outputs": [
    {
     "data": {
      "text/html": [
       "<div>\n",
       "<style scoped>\n",
       "    .dataframe tbody tr th:only-of-type {\n",
       "        vertical-align: middle;\n",
       "    }\n",
       "\n",
       "    .dataframe tbody tr th {\n",
       "        vertical-align: top;\n",
       "    }\n",
       "\n",
       "    .dataframe thead th {\n",
       "        text-align: right;\n",
       "    }\n",
       "</style>\n",
       "<table border=\"1\" class=\"dataframe\">\n",
       "  <thead>\n",
       "    <tr style=\"text-align: right;\">\n",
       "      <th></th>\n",
       "      <th>Total Schools</th>\n",
       "      <th>Total Students</th>\n",
       "      <th>Total Budget</th>\n",
       "      <th>Average Math Score</th>\n",
       "      <th>Average Reading Score</th>\n",
       "      <th>% Passing Math</th>\n",
       "      <th>% Passing Reading</th>\n",
       "      <th>% Overall Passing</th>\n",
       "    </tr>\n",
       "  </thead>\n",
       "  <tbody>\n",
       "    <tr>\n",
       "      <th>0</th>\n",
       "      <td>15</td>\n",
       "      <td>39170</td>\n",
       "      <td>$24,649,428.00</td>\n",
       "      <td>78.985371</td>\n",
       "      <td>81.87784</td>\n",
       "      <td>74.980853</td>\n",
       "      <td>85.805463</td>\n",
       "      <td>65.172326</td>\n",
       "    </tr>\n",
       "  </tbody>\n",
       "</table>\n",
       "</div>"
      ],
      "text/plain": [
       "   Total Schools  Total Students    Total Budget  Average Math Score  \\\n",
       "0             15           39170  $24,649,428.00           78.985371   \n",
       "\n",
       "   Average Reading Score  % Passing Math  % Passing Reading  % Overall Passing  \n",
       "0               81.87784       74.980853          85.805463          65.172326  "
      ]
     },
     "execution_count": 17,
     "metadata": {},
     "output_type": "execute_result"
    }
   ],
   "source": [
    "district_summary = pd.DataFrame({\n",
    "    \"Total Schools\": [total_schools],\n",
    "    \"Total Students\": [total_students],\n",
    "    \"Total Budget\": [total_budget],\n",
    "    \"Average Math Score\": [avg_math_score],\n",
    "    \"Average Reading Score\": [avg_reading_score],\n",
    "    \"% Passing Math\": [percent_passing_math],\n",
    "    \"% Passing Reading\": [percent_passing_reading],\n",
    "    \"% Overall Passing\": [percent_overall_passing]\n",
    "})\n",
    "\n",
    "# Format Total Budget for readability\n",
    "district_summary[\"Total Budget\"] = district_summary[\"Total Budget\"].map(\"${:,.2f}\".format)\n",
    "\n",
    "district_summary\n",
    "\n",
    "\n"
   ]
  },
  {
   "cell_type": "code",
   "execution_count": 21,
   "id": "cfce4998-fcc3-4c03-ae38-f9445911a4f0",
   "metadata": {},
   "outputs": [
    {
     "name": "stderr",
     "output_type": "stream",
     "text": [
      "/var/folders/qq/btq3mm09773cwl69pjm3kzf40000gn/T/ipykernel_28304/2858709765.py:11: DeprecationWarning: DataFrameGroupBy.apply operated on the grouping columns. This behavior is deprecated, and in a future version of pandas the grouping columns will be excluded from the operation. Either pass `include_groups=False` to exclude the groupings or explicitly select the grouping columns after groupby to silence this warning.\n",
      "  passing_math_per_school = school_grouped.apply(lambda x: (x['math_score'] >= 70).mean()) * 100\n",
      "/var/folders/qq/btq3mm09773cwl69pjm3kzf40000gn/T/ipykernel_28304/2858709765.py:12: DeprecationWarning: DataFrameGroupBy.apply operated on the grouping columns. This behavior is deprecated, and in a future version of pandas the grouping columns will be excluded from the operation. Either pass `include_groups=False` to exclude the groupings or explicitly select the grouping columns after groupby to silence this warning.\n",
      "  passing_reading_per_school = school_grouped.apply(lambda x: (x['reading_score'] >= 70).mean()) * 100\n",
      "/var/folders/qq/btq3mm09773cwl69pjm3kzf40000gn/T/ipykernel_28304/2858709765.py:13: DeprecationWarning: DataFrameGroupBy.apply operated on the grouping columns. This behavior is deprecated, and in a future version of pandas the grouping columns will be excluded from the operation. Either pass `include_groups=False` to exclude the groupings or explicitly select the grouping columns after groupby to silence this warning.\n",
      "  passing_overall_per_school = school_grouped.apply(lambda x: ((x['math_score'] >= 70) & (x['reading_score'] >= 70)).mean()) * 100\n"
     ]
    }
   ],
   "source": [
    "school_grouped = student_data.groupby('school_name')\n",
    "\n",
    "total_students_per_school = school_grouped['student_name'].count()\n",
    "\n",
    "budget_per_school = school_data.set_index('school_name')['budget']\n",
    "\n",
    "\n",
    "per_student_budget = budget_per_school / total_students_per_school\n",
    "avg_math_per_school = school_grouped['math_score'].mean()\n",
    "avg_reading_per_school = school_grouped['reading_score'].mean()\n",
    "passing_math_per_school = school_grouped.apply(lambda x: (x['math_score'] >= 70).mean()) * 100\n",
    "passing_reading_per_school = school_grouped.apply(lambda x: (x['reading_score'] >= 70).mean()) * 100\n",
    "passing_overall_per_school = school_grouped.apply(lambda x: ((x['math_score'] >= 70) & (x['reading_score'] >= 70)).mean()) * 100\n"
   ]
  },
  {
   "cell_type": "code",
   "execution_count": null,
   "id": "acb88d24-3224-40d7-bff0-fc52cb75146b",
   "metadata": {},
   "outputs": [],
   "source": []
  },
  {
   "cell_type": "code",
   "execution_count": 24,
   "id": "1f35e938-3186-4c88-9438-047eb7544894",
   "metadata": {},
   "outputs": [],
   "source": [
    "school_grouped = student_data.groupby('school_name')"
   ]
  },
  {
   "cell_type": "code",
   "execution_count": 26,
   "id": "8cc5c71f-e543-4604-80c4-c77a78d33eba",
   "metadata": {},
   "outputs": [],
   "source": [
    "total_students_per_school = school_grouped['student_name'].count()"
   ]
  },
  {
   "cell_type": "code",
   "execution_count": 28,
   "id": "bf158100-1ee5-4ace-88cd-b918e5e2c88b",
   "metadata": {},
   "outputs": [],
   "source": [
    "budget_per_school = school_data.set_index('school_name')['budget']"
   ]
  },
  {
   "cell_type": "code",
   "execution_count": 30,
   "id": "def88f37-1000-4994-85ad-6f179d05c108",
   "metadata": {},
   "outputs": [],
   "source": [
    "per_student_budget = budget_per_school / total_students_per_school"
   ]
  },
  {
   "cell_type": "code",
   "execution_count": 32,
   "id": "bc18cfaa-c5aa-4da7-92c0-10dd6817a031",
   "metadata": {},
   "outputs": [],
   "source": [
    "avg_math_per_school = school_grouped['math_score'].mean()"
   ]
  },
  {
   "cell_type": "code",
   "execution_count": 34,
   "id": "49e7d09a-f431-4303-8680-663b49fde779",
   "metadata": {},
   "outputs": [],
   "source": [
    "avg_reading_per_school = school_grouped['reading_score'].mean()"
   ]
  },
  {
   "cell_type": "code",
   "execution_count": 36,
   "id": "ce7747b1-af44-4438-b006-156aee3c76f5",
   "metadata": {},
   "outputs": [
    {
     "name": "stderr",
     "output_type": "stream",
     "text": [
      "/var/folders/qq/btq3mm09773cwl69pjm3kzf40000gn/T/ipykernel_28304/3434828040.py:1: DeprecationWarning: DataFrameGroupBy.apply operated on the grouping columns. This behavior is deprecated, and in a future version of pandas the grouping columns will be excluded from the operation. Either pass `include_groups=False` to exclude the groupings or explicitly select the grouping columns after groupby to silence this warning.\n",
      "  passing_math_per_school = school_grouped.apply(lambda x: (x['math_score'] >= 70).mean()) * 100\n"
     ]
    }
   ],
   "source": [
    "passing_math_per_school = school_grouped.apply(lambda x: (x['math_score'] >= 70).mean()) * 100"
   ]
  },
  {
   "cell_type": "code",
   "execution_count": 38,
   "id": "ce49a590-9a6c-4b87-bd0a-9049c59d6eef",
   "metadata": {},
   "outputs": [
    {
     "name": "stderr",
     "output_type": "stream",
     "text": [
      "/var/folders/qq/btq3mm09773cwl69pjm3kzf40000gn/T/ipykernel_28304/2296383072.py:1: DeprecationWarning: DataFrameGroupBy.apply operated on the grouping columns. This behavior is deprecated, and in a future version of pandas the grouping columns will be excluded from the operation. Either pass `include_groups=False` to exclude the groupings or explicitly select the grouping columns after groupby to silence this warning.\n",
      "  passing_reading_per_school = school_grouped.apply(lambda x: (x['reading_score'] >= 70).mean()) * 100\n"
     ]
    }
   ],
   "source": [
    "passing_reading_per_school = school_grouped.apply(lambda x: (x['reading_score'] >= 70).mean()) * 100"
   ]
  },
  {
   "cell_type": "code",
   "execution_count": 40,
   "id": "b10b3800-b668-4987-927e-47840aaf8e60",
   "metadata": {},
   "outputs": [
    {
     "name": "stderr",
     "output_type": "stream",
     "text": [
      "/var/folders/qq/btq3mm09773cwl69pjm3kzf40000gn/T/ipykernel_28304/3349825022.py:1: DeprecationWarning: DataFrameGroupBy.apply operated on the grouping columns. This behavior is deprecated, and in a future version of pandas the grouping columns will be excluded from the operation. Either pass `include_groups=False` to exclude the groupings or explicitly select the grouping columns after groupby to silence this warning.\n",
      "  passing_overall_per_school = school_grouped.apply(lambda x: ((x['math_score'] >= 70) & (x['reading_score'] >= 70)).mean()) * 100\n"
     ]
    }
   ],
   "source": [
    "passing_overall_per_school = school_grouped.apply(lambda x: ((x['math_score'] >= 70) & (x['reading_score'] >= 70)).mean()) * 100"
   ]
  },
  {
   "cell_type": "code",
   "execution_count": 42,
   "id": "01780ae4-c29a-425b-a6ea-87cf08c9081a",
   "metadata": {},
   "outputs": [
    {
     "data": {
      "text/html": [
       "<div>\n",
       "<style scoped>\n",
       "    .dataframe tbody tr th:only-of-type {\n",
       "        vertical-align: middle;\n",
       "    }\n",
       "\n",
       "    .dataframe tbody tr th {\n",
       "        vertical-align: top;\n",
       "    }\n",
       "\n",
       "    .dataframe thead th {\n",
       "        text-align: right;\n",
       "    }\n",
       "</style>\n",
       "<table border=\"1\" class=\"dataframe\">\n",
       "  <thead>\n",
       "    <tr style=\"text-align: right;\">\n",
       "      <th></th>\n",
       "      <th>Total Students</th>\n",
       "      <th>Total School Budget</th>\n",
       "      <th>Per Student Budget</th>\n",
       "      <th>Average Math Score</th>\n",
       "      <th>Average Reading Score</th>\n",
       "      <th>% Passing Math</th>\n",
       "      <th>% Passing Reading</th>\n",
       "      <th>% Overall Passing</th>\n",
       "    </tr>\n",
       "    <tr>\n",
       "      <th>school_name</th>\n",
       "      <th></th>\n",
       "      <th></th>\n",
       "      <th></th>\n",
       "      <th></th>\n",
       "      <th></th>\n",
       "      <th></th>\n",
       "      <th></th>\n",
       "      <th></th>\n",
       "    </tr>\n",
       "  </thead>\n",
       "  <tbody>\n",
       "    <tr>\n",
       "      <th>Bailey High School</th>\n",
       "      <td>4976</td>\n",
       "      <td>$3,124,928.00</td>\n",
       "      <td>$628.00</td>\n",
       "      <td>77.048432</td>\n",
       "      <td>81.033963</td>\n",
       "      <td>66.680064</td>\n",
       "      <td>81.933280</td>\n",
       "      <td>54.642283</td>\n",
       "    </tr>\n",
       "    <tr>\n",
       "      <th>Cabrera High School</th>\n",
       "      <td>1858</td>\n",
       "      <td>$1,081,356.00</td>\n",
       "      <td>$582.00</td>\n",
       "      <td>83.061895</td>\n",
       "      <td>83.975780</td>\n",
       "      <td>94.133477</td>\n",
       "      <td>97.039828</td>\n",
       "      <td>91.334769</td>\n",
       "    </tr>\n",
       "    <tr>\n",
       "      <th>Figueroa High School</th>\n",
       "      <td>2949</td>\n",
       "      <td>$1,884,411.00</td>\n",
       "      <td>$639.00</td>\n",
       "      <td>76.711767</td>\n",
       "      <td>81.158020</td>\n",
       "      <td>65.988471</td>\n",
       "      <td>80.739234</td>\n",
       "      <td>53.204476</td>\n",
       "    </tr>\n",
       "    <tr>\n",
       "      <th>Ford High School</th>\n",
       "      <td>2739</td>\n",
       "      <td>$1,763,916.00</td>\n",
       "      <td>$644.00</td>\n",
       "      <td>77.102592</td>\n",
       "      <td>80.746258</td>\n",
       "      <td>68.309602</td>\n",
       "      <td>79.299014</td>\n",
       "      <td>54.289887</td>\n",
       "    </tr>\n",
       "    <tr>\n",
       "      <th>Griffin High School</th>\n",
       "      <td>1468</td>\n",
       "      <td>$917,500.00</td>\n",
       "      <td>$625.00</td>\n",
       "      <td>83.351499</td>\n",
       "      <td>83.816757</td>\n",
       "      <td>93.392371</td>\n",
       "      <td>97.138965</td>\n",
       "      <td>90.599455</td>\n",
       "    </tr>\n",
       "  </tbody>\n",
       "</table>\n",
       "</div>"
      ],
      "text/plain": [
       "                      Total Students Total School Budget Per Student Budget  \\\n",
       "school_name                                                                   \n",
       "Bailey High School              4976       $3,124,928.00            $628.00   \n",
       "Cabrera High School             1858       $1,081,356.00            $582.00   \n",
       "Figueroa High School            2949       $1,884,411.00            $639.00   \n",
       "Ford High School                2739       $1,763,916.00            $644.00   \n",
       "Griffin High School             1468         $917,500.00            $625.00   \n",
       "\n",
       "                      Average Math Score  Average Reading Score  \\\n",
       "school_name                                                       \n",
       "Bailey High School             77.048432              81.033963   \n",
       "Cabrera High School            83.061895              83.975780   \n",
       "Figueroa High School           76.711767              81.158020   \n",
       "Ford High School               77.102592              80.746258   \n",
       "Griffin High School            83.351499              83.816757   \n",
       "\n",
       "                      % Passing Math  % Passing Reading  % Overall Passing  \n",
       "school_name                                                                 \n",
       "Bailey High School         66.680064          81.933280          54.642283  \n",
       "Cabrera High School        94.133477          97.039828          91.334769  \n",
       "Figueroa High School       65.988471          80.739234          53.204476  \n",
       "Ford High School           68.309602          79.299014          54.289887  \n",
       "Griffin High School        93.392371          97.138965          90.599455  "
      ]
     },
     "execution_count": 42,
     "metadata": {},
     "output_type": "execute_result"
    }
   ],
   "source": [
    "school_summary = pd.DataFrame({\n",
    "    \"Total Students\": total_students_per_school,\n",
    "    \"Total School Budget\": budget_per_school,\n",
    "    \"Per Student Budget\": per_student_budget,\n",
    "    \"Average Math Score\": avg_math_per_school,\n",
    "    \"Average Reading Score\": avg_reading_per_school,\n",
    "    \"% Passing Math\": passing_math_per_school,\n",
    "    \"% Passing Reading\": passing_reading_per_school,\n",
    "    \"% Overall Passing\": passing_overall_per_school\n",
    "})\n",
    "\n",
    "# Format Total School Budget for readability\n",
    "school_summary[\"Total School Budget\"] = school_summary[\"Total School Budget\"].map(\"${:,.2f}\".format)\n",
    "school_summary[\"Per Student Budget\"] = school_summary[\"Per Student Budget\"].map(\"${:,.2f}\".format)\n",
    "\n",
    "school_summary.head()\n"
   ]
  },
  {
   "cell_type": "code",
   "execution_count": 44,
   "id": "d7762976-b37f-4596-9918-c788369143ba",
   "metadata": {},
   "outputs": [
    {
     "name": "stderr",
     "output_type": "stream",
     "text": [
      "<>:6: SyntaxWarning: invalid escape sequence '\\$'\n",
      "<>:6: SyntaxWarning: invalid escape sequence '\\$'\n",
      "/var/folders/qq/btq3mm09773cwl69pjm3kzf40000gn/T/ipykernel_28304/146309838.py:6: SyntaxWarning: invalid escape sequence '\\$'\n",
      "  school_summary[\"Spending Ranges (Per Student)\"] = pd.cut(school_summary[\"Per Student Budget\"].str.replace('[\\$,]', '', regex=True).astype(float), bins=spending_bins, labels=spending_labels)\n"
     ]
    }
   ],
   "source": [
    "# Define spending bins and labels\n",
    "spending_bins = [0, 585, 615, 645, 675]\n",
    "spending_labels = [\"<$585\", \"$585-615\", \"$615-645\", \"$645-675\"]\n",
    "\n",
    "# Create a new column for spending ranges in the school_summary DataFrame\n",
    "school_summary[\"Spending Ranges (Per Student)\"] = pd.cut(school_summary[\"Per Student Budget\"].str.replace('[\\$,]', '', regex=True).astype(float), bins=spending_bins, labels=spending_labels)\n"
   ]
  },
  {
   "cell_type": "code",
   "execution_count": 46,
   "id": "bb27fa1a-912b-4785-a96d-9888da2c50e2",
   "metadata": {},
   "outputs": [
    {
     "name": "stderr",
     "output_type": "stream",
     "text": [
      "/var/folders/qq/btq3mm09773cwl69pjm3kzf40000gn/T/ipykernel_28304/3444061185.py:2: FutureWarning: The default of observed=False is deprecated and will be changed to True in a future version of pandas. Pass observed=False to retain current behavior or observed=True to adopt the future default and silence this warning.\n",
      "  spending_math_scores = school_summary.groupby(\"Spending Ranges (Per Student)\")[\"Average Math Score\"].mean()\n",
      "/var/folders/qq/btq3mm09773cwl69pjm3kzf40000gn/T/ipykernel_28304/3444061185.py:3: FutureWarning: The default of observed=False is deprecated and will be changed to True in a future version of pandas. Pass observed=False to retain current behavior or observed=True to adopt the future default and silence this warning.\n",
      "  spending_reading_scores = school_summary.groupby(\"Spending Ranges (Per Student)\")[\"Average Reading Score\"].mean()\n",
      "/var/folders/qq/btq3mm09773cwl69pjm3kzf40000gn/T/ipykernel_28304/3444061185.py:4: FutureWarning: The default of observed=False is deprecated and will be changed to True in a future version of pandas. Pass observed=False to retain current behavior or observed=True to adopt the future default and silence this warning.\n",
      "  spending_passing_math = school_summary.groupby(\"Spending Ranges (Per Student)\")[\"% Passing Math\"].mean()\n",
      "/var/folders/qq/btq3mm09773cwl69pjm3kzf40000gn/T/ipykernel_28304/3444061185.py:5: FutureWarning: The default of observed=False is deprecated and will be changed to True in a future version of pandas. Pass observed=False to retain current behavior or observed=True to adopt the future default and silence this warning.\n",
      "  spending_passing_reading = school_summary.groupby(\"Spending Ranges (Per Student)\")[\"% Passing Reading\"].mean()\n",
      "/var/folders/qq/btq3mm09773cwl69pjm3kzf40000gn/T/ipykernel_28304/3444061185.py:6: FutureWarning: The default of observed=False is deprecated and will be changed to True in a future version of pandas. Pass observed=False to retain current behavior or observed=True to adopt the future default and silence this warning.\n",
      "  spending_overall_passing = school_summary.groupby(\"Spending Ranges (Per Student)\")[\"% Overall Passing\"].mean()\n"
     ]
    },
    {
     "data": {
      "text/html": [
       "<div>\n",
       "<style scoped>\n",
       "    .dataframe tbody tr th:only-of-type {\n",
       "        vertical-align: middle;\n",
       "    }\n",
       "\n",
       "    .dataframe tbody tr th {\n",
       "        vertical-align: top;\n",
       "    }\n",
       "\n",
       "    .dataframe thead th {\n",
       "        text-align: right;\n",
       "    }\n",
       "</style>\n",
       "<table border=\"1\" class=\"dataframe\">\n",
       "  <thead>\n",
       "    <tr style=\"text-align: right;\">\n",
       "      <th></th>\n",
       "      <th>Average Math Score</th>\n",
       "      <th>Average Reading Score</th>\n",
       "      <th>% Passing Math</th>\n",
       "      <th>% Passing Reading</th>\n",
       "      <th>% Overall Passing</th>\n",
       "    </tr>\n",
       "    <tr>\n",
       "      <th>Spending Ranges (Per Student)</th>\n",
       "      <th></th>\n",
       "      <th></th>\n",
       "      <th></th>\n",
       "      <th></th>\n",
       "      <th></th>\n",
       "    </tr>\n",
       "  </thead>\n",
       "  <tbody>\n",
       "    <tr>\n",
       "      <th>&lt;$585</th>\n",
       "      <td>83.455399</td>\n",
       "      <td>83.933814</td>\n",
       "      <td>93.460096</td>\n",
       "      <td>96.610877</td>\n",
       "      <td>90.369459</td>\n",
       "    </tr>\n",
       "    <tr>\n",
       "      <th>$585-615</th>\n",
       "      <td>83.599686</td>\n",
       "      <td>83.885211</td>\n",
       "      <td>94.230858</td>\n",
       "      <td>95.900287</td>\n",
       "      <td>90.216324</td>\n",
       "    </tr>\n",
       "    <tr>\n",
       "      <th>$615-645</th>\n",
       "      <td>79.079225</td>\n",
       "      <td>81.891436</td>\n",
       "      <td>75.668212</td>\n",
       "      <td>86.106569</td>\n",
       "      <td>66.112060</td>\n",
       "    </tr>\n",
       "    <tr>\n",
       "      <th>$645-675</th>\n",
       "      <td>76.997210</td>\n",
       "      <td>81.027843</td>\n",
       "      <td>66.164813</td>\n",
       "      <td>81.133951</td>\n",
       "      <td>53.526855</td>\n",
       "    </tr>\n",
       "  </tbody>\n",
       "</table>\n",
       "</div>"
      ],
      "text/plain": [
       "                               Average Math Score  Average Reading Score  \\\n",
       "Spending Ranges (Per Student)                                              \n",
       "<$585                                   83.455399              83.933814   \n",
       "$585-615                                83.599686              83.885211   \n",
       "$615-645                                79.079225              81.891436   \n",
       "$645-675                                76.997210              81.027843   \n",
       "\n",
       "                               % Passing Math  % Passing Reading  \\\n",
       "Spending Ranges (Per Student)                                      \n",
       "<$585                               93.460096          96.610877   \n",
       "$585-615                            94.230858          95.900287   \n",
       "$615-645                            75.668212          86.106569   \n",
       "$645-675                            66.164813          81.133951   \n",
       "\n",
       "                               % Overall Passing  \n",
       "Spending Ranges (Per Student)                     \n",
       "<$585                                  90.369459  \n",
       "$585-615                               90.216324  \n",
       "$615-645                               66.112060  \n",
       "$645-675                               53.526855  "
      ]
     },
     "execution_count": 46,
     "metadata": {},
     "output_type": "execute_result"
    }
   ],
   "source": [
    "# Group by spending ranges and calculate average scores and passing percentages\n",
    "spending_math_scores = school_summary.groupby(\"Spending Ranges (Per Student)\")[\"Average Math Score\"].mean()\n",
    "spending_reading_scores = school_summary.groupby(\"Spending Ranges (Per Student)\")[\"Average Reading Score\"].mean()\n",
    "spending_passing_math = school_summary.groupby(\"Spending Ranges (Per Student)\")[\"% Passing Math\"].mean()\n",
    "spending_passing_reading = school_summary.groupby(\"Spending Ranges (Per Student)\")[\"% Passing Reading\"].mean()\n",
    "spending_overall_passing = school_summary.groupby(\"Spending Ranges (Per Student)\")[\"% Overall Passing\"].mean()\n",
    "\n",
    "# Create the spending_summary DataFrame\n",
    "spending_summary = pd.DataFrame({\n",
    "    \"Average Math Score\": spending_math_scores,\n",
    "    \"Average Reading Score\": spending_reading_scores,\n",
    "    \"% Passing Math\": spending_passing_math,\n",
    "    \"% Passing Reading\": spending_passing_reading,\n",
    "    \"% Overall Passing\": spending_overall_passing\n",
    "})\n",
    "\n",
    "# Display the spending summary\n",
    "spending_summary\n"
   ]
  },
  {
   "cell_type": "code",
   "execution_count": 48,
   "id": "f802a3df-cb8f-47d5-8740-97da7a70a89c",
   "metadata": {},
   "outputs": [],
   "source": [
    "# Bins for school size\n",
    "size_bins = [0, 1000, 2000, 5000]\n",
    "size_labels = [\"Small (<1000)\", \"Medium (1000-2000)\", \"Large (2000-5000)\"]\n",
    "\n",
    "# Add a 'School Size' column to the DataFrame\n",
    "school_summary['School Size'] = pd.cut(\n",
    "    school_summary['Total Students'],\n",
    "    bins=size_bins,\n",
    "    labels=size_labels\n",
    ")\n"
   ]
  },
  {
   "cell_type": "code",
   "execution_count": 50,
   "id": "34936d8f-5a94-4dfa-93b8-5c794799aa15",
   "metadata": {},
   "outputs": [
    {
     "name": "stderr",
     "output_type": "stream",
     "text": [
      "/var/folders/qq/btq3mm09773cwl69pjm3kzf40000gn/T/ipykernel_28304/938552751.py:2: FutureWarning: The default of observed=False is deprecated and will be changed to True in a future version of pandas. Pass observed=False to retain current behavior or observed=True to adopt the future default and silence this warning.\n",
      "  size_math_scores = school_summary.groupby('School Size')['Average Math Score'].mean()\n",
      "/var/folders/qq/btq3mm09773cwl69pjm3kzf40000gn/T/ipykernel_28304/938552751.py:3: FutureWarning: The default of observed=False is deprecated and will be changed to True in a future version of pandas. Pass observed=False to retain current behavior or observed=True to adopt the future default and silence this warning.\n",
      "  size_reading_scores = school_summary.groupby('School Size')['Average Reading Score'].mean()\n",
      "/var/folders/qq/btq3mm09773cwl69pjm3kzf40000gn/T/ipykernel_28304/938552751.py:4: FutureWarning: The default of observed=False is deprecated and will be changed to True in a future version of pandas. Pass observed=False to retain current behavior or observed=True to adopt the future default and silence this warning.\n",
      "  size_passing_math = school_summary.groupby('School Size')['% Passing Math'].mean()\n",
      "/var/folders/qq/btq3mm09773cwl69pjm3kzf40000gn/T/ipykernel_28304/938552751.py:5: FutureWarning: The default of observed=False is deprecated and will be changed to True in a future version of pandas. Pass observed=False to retain current behavior or observed=True to adopt the future default and silence this warning.\n",
      "  size_passing_reading = school_summary.groupby('School Size')['% Passing Reading'].mean()\n",
      "/var/folders/qq/btq3mm09773cwl69pjm3kzf40000gn/T/ipykernel_28304/938552751.py:6: FutureWarning: The default of observed=False is deprecated and will be changed to True in a future version of pandas. Pass observed=False to retain current behavior or observed=True to adopt the future default and silence this warning.\n",
      "  size_overall_passing = school_summary.groupby('School Size')['% Overall Passing'].mean()\n"
     ]
    },
    {
     "data": {
      "text/html": [
       "<div>\n",
       "<style scoped>\n",
       "    .dataframe tbody tr th:only-of-type {\n",
       "        vertical-align: middle;\n",
       "    }\n",
       "\n",
       "    .dataframe tbody tr th {\n",
       "        vertical-align: top;\n",
       "    }\n",
       "\n",
       "    .dataframe thead th {\n",
       "        text-align: right;\n",
       "    }\n",
       "</style>\n",
       "<table border=\"1\" class=\"dataframe\">\n",
       "  <thead>\n",
       "    <tr style=\"text-align: right;\">\n",
       "      <th></th>\n",
       "      <th>Average Math Score</th>\n",
       "      <th>Average Reading Score</th>\n",
       "      <th>% Passing Math</th>\n",
       "      <th>% Passing Reading</th>\n",
       "      <th>% Overall Passing</th>\n",
       "    </tr>\n",
       "    <tr>\n",
       "      <th>School Size</th>\n",
       "      <th></th>\n",
       "      <th></th>\n",
       "      <th></th>\n",
       "      <th></th>\n",
       "      <th></th>\n",
       "    </tr>\n",
       "  </thead>\n",
       "  <tbody>\n",
       "    <tr>\n",
       "      <th>Small (&lt;1000)</th>\n",
       "      <td>83.821598</td>\n",
       "      <td>83.929843</td>\n",
       "      <td>93.550225</td>\n",
       "      <td>96.099437</td>\n",
       "      <td>89.883853</td>\n",
       "    </tr>\n",
       "    <tr>\n",
       "      <th>Medium (1000-2000)</th>\n",
       "      <td>83.374684</td>\n",
       "      <td>83.864438</td>\n",
       "      <td>93.599695</td>\n",
       "      <td>96.790680</td>\n",
       "      <td>90.621535</td>\n",
       "    </tr>\n",
       "    <tr>\n",
       "      <th>Large (2000-5000)</th>\n",
       "      <td>77.746417</td>\n",
       "      <td>81.344493</td>\n",
       "      <td>69.963361</td>\n",
       "      <td>82.766634</td>\n",
       "      <td>58.286003</td>\n",
       "    </tr>\n",
       "  </tbody>\n",
       "</table>\n",
       "</div>"
      ],
      "text/plain": [
       "                    Average Math Score  Average Reading Score  % Passing Math  \\\n",
       "School Size                                                                     \n",
       "Small (<1000)                83.821598              83.929843       93.550225   \n",
       "Medium (1000-2000)           83.374684              83.864438       93.599695   \n",
       "Large (2000-5000)            77.746417              81.344493       69.963361   \n",
       "\n",
       "                    % Passing Reading  % Overall Passing  \n",
       "School Size                                               \n",
       "Small (<1000)               96.099437          89.883853  \n",
       "Medium (1000-2000)          96.790680          90.621535  \n",
       "Large (2000-5000)           82.766634          58.286003  "
      ]
     },
     "execution_count": 50,
     "metadata": {},
     "output_type": "execute_result"
    }
   ],
   "source": [
    "# Calculate the metrics\n",
    "size_math_scores = school_summary.groupby('School Size')['Average Math Score'].mean()\n",
    "size_reading_scores = school_summary.groupby('School Size')['Average Reading Score'].mean()\n",
    "size_passing_math = school_summary.groupby('School Size')['% Passing Math'].mean()\n",
    "size_passing_reading = school_summary.groupby('School Size')['% Passing Reading'].mean()\n",
    "size_overall_passing = school_summary.groupby('School Size')['% Overall Passing'].mean()\n",
    "\n",
    "# Create the size_summary DataFrame\n",
    "size_summary = pd.DataFrame({\n",
    "    \"Average Math Score\": size_math_scores,\n",
    "    \"Average Reading Score\": size_reading_scores,\n",
    "    \"% Passing Math\": size_passing_math,\n",
    "    \"% Passing Reading\": size_passing_reading,\n",
    "    \"% Overall Passing\": size_overall_passing\n",
    "})\n",
    "\n",
    "# Display the size_summary DataFrame\n",
    "size_summary\n"
   ]
  },
  {
   "cell_type": "code",
   "execution_count": null,
   "id": "9453e8f1-e03b-46d5-872b-5f4489a072b2",
   "metadata": {},
   "outputs": [],
   "source": []
  }
 ],
 "metadata": {
  "kernelspec": {
   "display_name": "Python 3 (ipykernel)",
   "language": "python",
   "name": "python3"
  },
  "language_info": {
   "codemirror_mode": {
    "name": "ipython",
    "version": 3
   },
   "file_extension": ".py",
   "mimetype": "text/x-python",
   "name": "python",
   "nbconvert_exporter": "python",
   "pygments_lexer": "ipython3",
   "version": "3.12.4"
  }
 },
 "nbformat": 4,
 "nbformat_minor": 5
}
